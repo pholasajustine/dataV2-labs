{
 "cells": [
  {
   "cell_type": "code",
   "execution_count": null,
   "metadata": {},
   "outputs": [],
   "source": [
    "\"\"\"\n",
    "The code below generates a given number of random strings that consists of numbers and \n",
    "lower case English letters. You can also define the range of the variable lengths of\n",
    "the strings being generated.\n",
    "\n",
    "The code is functional but has a lot of room for improvement. Use what you have learned\n",
    "about simple and efficient code, refactor the code.\n",
    "\"\"\"\n",
    "import random\n",
    "import string\n",
    "\n",
    "letters_numbers = string.ascii_lowercase + string.digits  \n",
    "\n",
    "def RandomStringGenerator(length):\n",
    "    return ''.join([random.choice(letters_numbers) for i in range(length)])\n",
    "\n",
    "def BatchStringGenerator(nb_strings, min_length, max_length):\n",
    "    return [RandomStringGenerator(random.choice(range(min_length, max_length)) for i in range(nb_strings))]\n",
    "\n",
    "while True:\n",
    "    min_length = int(input('Enter minimum string length: '))\n",
    "    max_length = int(input('Enter maximum string length: '))\n",
    "    nb_strings = int(input('How many random strings to generate? '))\n",
    "    if max_length> min_length:\n",
    "        break\n",
    "    else:\n",
    "        print('Incorrect min and max string lengths. Try again.')\n",
    "\n",
    "print(BatchStringGenerator(nb_strings, min_length, max_length))\n"
   ]
  },
  {
   "cell_type": "code",
   "execution_count": null,
   "metadata": {},
   "outputs": [],
   "source": []
  }
 ],
 "metadata": {
  "kernelspec": {
   "display_name": "Python 3",
   "language": "python",
   "name": "python3"
  },
  "language_info": {
   "codemirror_mode": {
    "name": "ipython",
    "version": 3
   },
   "file_extension": ".py",
   "mimetype": "text/x-python",
   "name": "python",
   "nbconvert_exporter": "python",
   "pygments_lexer": "ipython3",
   "version": "3.8.3"
  }
 },
 "nbformat": 4,
 "nbformat_minor": 4
}
