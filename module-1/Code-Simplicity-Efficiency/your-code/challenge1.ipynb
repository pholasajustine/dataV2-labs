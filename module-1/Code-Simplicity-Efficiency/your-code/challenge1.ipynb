{
 "cells": [
  {
   "cell_type": "code",
   "execution_count": 4,
   "metadata": {},
   "outputs": [
    {
     "name": "stdout",
     "output_type": "stream",
     "text": [
      "Welcome to this calculator!\n",
      "It can add and subtract whole numbers from zero to five\n",
      "Please choose your first number (zero to five): one\n",
      "What do you want to do? plus or minus: minus\n",
      "Please choose your second number (zero to five): five\n",
      "one minus five equals negative four\n",
      "Thanks for using this calculator, goodbye :)\n"
     ]
    }
   ],
   "source": [
    "\"\"\"\n",
    "This is a dumb calculator that can add and subtract whole numbers from zero to five.\n",
    "When you run the code, you are prompted to enter two numbers (in the form of English\n",
    "word instead of number) and the operator sign (also in the form of English word).\n",
    "The code will perform the calculation and give the result if your input is what it\n",
    "expects.\n",
    "\n",
    "The code is very long and messy. Refactor it according to what you have learned about\n",
    "code simplicity and efficiency.\n",
    "\"\"\"\n",
    "possible_numbers = {'zero': 0, 'one': 1, 'two': 2, 'three': 3, 'four': 4, 'five': 5, 'six': 6, 'sept': 7, 'huit': 8, 'neuf': 9, 'dix': 10}\n",
    "inv_numbers = {v: k for k,v in possible_numbers.items()}\n",
    "\n",
    "def calculator(a, b, operator):\n",
    "    if operator == 'plus':\n",
    "        return possible_numbers[a] + possible_numbers[b]\n",
    "    else:\n",
    "        return possible_numbers[a] - possible_numbers[b]\n",
    "    \n",
    "        \n",
    "def validate_input(a, b, c):\n",
    "    if a not in possible_numbers:\n",
    "        return False\n",
    "    if b not in possible_numbers:\n",
    "        return False\n",
    "    if operator not in ['plus', 'minus']:\n",
    "        return false\n",
    "    if possible_numbers[a] > 5:\n",
    "        return False\n",
    "    if possible_numbers[b] > 5:\n",
    "        return False\n",
    "    return True\n",
    "\n",
    "print('Welcome to this calculator!')\n",
    "print('It can add and subtract whole numbers from zero to five')\n",
    "\n",
    "a = input('Please choose your first number (zero to five): ')\n",
    "operator = input('What do you want to do? plus or minus: ')\n",
    "b = input('Please choose your second number (zero to five): ')\n",
    "\n",
    "if not validate_input(a, b, operator):\n",
    "    print(\"I am not able to answer this question. Check your input.\")\n",
    "elif calculator(a, b, operator) >= 0:  \n",
    "    print(f'{a} {operator} {b} equals {inv_numbers[calculator(a, b, operator)]}')\n",
    "else:\n",
    "    print(f'{a} {operator} {b} equals negative {inv_numbers[-calculator(a, b, operator)]}')\n",
    "    \n",
    "print(\"Thanks for using this calculator, goodbye :)\")\n"
   ]
  },
  {
   "cell_type": "code",
   "execution_count": null,
   "metadata": {},
   "outputs": [],
   "source": []
  }
 ],
 "metadata": {
  "kernelspec": {
   "display_name": "Python 3",
   "language": "python",
   "name": "python3"
  },
  "language_info": {
   "codemirror_mode": {
    "name": "ipython",
    "version": 3
   },
   "file_extension": ".py",
   "mimetype": "text/x-python",
   "name": "python",
   "nbconvert_exporter": "python",
   "pygments_lexer": "ipython3",
   "version": "3.8.3"
  }
 },
 "nbformat": 4,
 "nbformat_minor": 4
}
