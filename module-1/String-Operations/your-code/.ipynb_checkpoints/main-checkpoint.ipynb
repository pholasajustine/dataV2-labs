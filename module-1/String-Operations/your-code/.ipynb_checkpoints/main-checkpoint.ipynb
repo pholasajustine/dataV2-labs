{
 "cells": [
  {
   "cell_type": "markdown",
   "metadata": {},
   "source": [
    "# Before your start:\n",
    "- Read the README.md file\n",
    "- Comment as much as you can and use the resources in the README.md file\n",
    "- Happy learning!"
   ]
  },
  {
   "cell_type": "code",
   "execution_count": 8,
   "metadata": {},
   "outputs": [],
   "source": [
    "import re"
   ]
  },
  {
   "cell_type": "markdown",
   "metadata": {},
   "source": [
    "# Challenge 1 - Combining Strings\n",
    "\n",
    "Combining strings is an important skill to acquire. There are multiple ways of combining strings in Python, as well as combining strings with variables. We will explore this in the first challenge. In the cell below, combine the strings in the list and add spaces between the strings (do not add a space after the last string). Insert a period after the last string."
   ]
  },
  {
   "cell_type": "code",
   "execution_count": 2,
   "metadata": {},
   "outputs": [
    {
     "name": "stdout",
     "output_type": "stream",
     "text": [
      "Durante un tiempo no estuvo segura de si su marido era su!\n"
     ]
    }
   ],
   "source": [
    "str_list = ['Durante', 'un', 'tiempo', 'no', 'estuvo', 'segura', 'de', 'si', 'su', 'marido', 'era', 'su', 'marido']\n",
    "# Your code here:\n",
    "print(' '.join(str_list[:-1])+\".\")\n"
   ]
  },
  {
   "cell_type": "markdown",
   "metadata": {},
   "source": [
    "In the cell below, use the list of strings to create a grocery list. Start the list with the string `Grocery list: ` and include a comma and a space between each item except for the last one. Include a period at the end. Only include foods in the list that start with the letter 'b' and ensure all foods are lower case."
   ]
  },
  {
   "cell_type": "code",
   "execution_count": 28,
   "metadata": {},
   "outputs": [
    {
     "name": "stdout",
     "output_type": "stream",
     "text": [
      "Grocery list : bananas, bread, brownie mix.\n"
     ]
    }
   ],
   "source": [
    "food_list = ['Bananas', 'Chocolate', 'bread', 'diapers', 'Ice Cream', 'Brownie Mix', 'broccoli']\n",
    "# Your code here:\n",
    "lower_case_food_list = [f.lower() for f in food_list]\n",
    "b_food_list = []\n",
    "title='Grocery list : '\n",
    "\n",
    "for food in lower_case_food_list:\n",
    "    if food.startswith('b') == True:\n",
    "        b_food_list.append(food)\n",
    "\n",
    "print(title + ', '.join(b_food_list[:-1]) + '.')"
   ]
  },
  {
   "cell_type": "markdown",
   "metadata": {},
   "source": [
    "In the cell below, write a function that computes the area of a circle using its radius. Compute the area of the circle and insert the radius and the area between the two strings. Make sure to include spaces between the variable and the strings. \n",
    "\n",
    "Note: You can use the techniques we have learned so far or use f-strings. F-strings allow us to embed code inside strings. You can read more about f-strings [here](https://www.python.org/dev/peps/pep-0498/)."
   ]
  },
  {
   "cell_type": "code",
   "execution_count": 36,
   "metadata": {},
   "outputs": [
    {
     "name": "stdout",
     "output_type": "stream",
     "text": [
      "The area of the circle with radius: 4.5 is: 63.61725123519331.\n"
     ]
    }
   ],
   "source": [
    "import math\n",
    "\n",
    "string1 = \"The area of the circle with radius:\"\n",
    "string2  = \"is:\"\n",
    "radius = 4.5\n",
    "\n",
    "def area(x, pi = math.pi):\n",
    "    area = pi * x **2\n",
    "    return area\n",
    "    \n",
    "    \"\"\"\n",
    "    This function takes a radius and returns the area of a circle. \n",
    "    We also pass a default value for pi.\n",
    "    \n",
    "    Input: Float (and default value for pi)\n",
    "    Output: Float\n",
    "    \n",
    "    Sample input: 5.0\n",
    "    Sample Output: 78.53981633\n",
    "    \"\"\"\n",
    "    \n",
    "    # Your code here:\n",
    "area_ex=area(4.5,pi)\n",
    "# Your output string here:\n",
    "print(string1 + \" \" + str(radius) + \" \" + string2 + \" \" + str(area_ex) +\".\")"
   ]
  },
  {
   "cell_type": "markdown",
   "metadata": {},
   "source": [
    "# Challenge 2 - Splitting Strings\n",
    "\n",
    "We have first looked at combining strings into one long string. There are times where we need to do the opposite and split the string into smaller components for further analysis. \n",
    "\n",
    "In the cell below, split the string into a list of strings using the space delimiter. Count the frequency of each word in the string in a dictionary. Strip the periods, line breaks and commas from the text. Make sure to remove empty strings from your dictionary."
   ]
  },
  {
   "cell_type": "code",
   "execution_count": 73,
   "metadata": {},
   "outputs": [
    {
     "name": "stdout",
     "output_type": "stream",
     "text": [
      "{'tasted': 1, 'suffice': 1, 'the': 1, 'from': 1, 'think': 1, 'enough': 1, 'who': 1, 'hold': 1, 'what': 1, 'it': 1, 'world': 1, 'ice': 1, 'had': 1, 'with': 1, 'of': 2, 'would': 1, 'perish': 1, 'to': 1, 'those': 1, 'fire': 1, 'twicei': 1, 'desirei': 1, 'end': 1, 'iceis': 1, 'will': 1, 'but': 1, 'firesome': 1, 'say': 3, 'some': 1, 'i': 1, 'hateto': 1, 'destruction': 1, 'i’ve': 1, 'that': 1, 'in': 2, 'if': 1, 'know': 1, 'favor': 1, 'greatand': 1, 'for': 1, 'also': 1}\n"
     ]
    }
   ],
   "source": [
    "poem = \"\"\"Some say the world will end in fire,\n",
    "Some say in ice.\n",
    "From what I’ve tasted of desire\n",
    "I hold with those who favor fire.\n",
    "But if it had to perish twice,\n",
    "I think I know enough of hate\n",
    "To say that for destruction ice\n",
    "Is also great\n",
    "And would suffice.\"\"\"\n",
    "\n",
    "# Your code here:\n",
    "poem_analyse = poem.lower().replace(\"\\n\",\"\").replace(\",\",\"\").replace(\".\",\" \").split()\n",
    "vocable_freq = {word : poem_analyse.count(word) for word in set(poem_analyse)}\n",
    "print(vocable_freq)"
   ]
  },
  {
   "cell_type": "markdown",
   "metadata": {},
   "source": [
    "In the cell below, find all the words that appear in the text and do not appear in the blacklist. You must parse the string but can choose any data structure you wish for the words that do not appear in the blacklist. Remove all non letter characters and convert all words to lower case."
   ]
  },
  {
   "cell_type": "code",
   "execution_count": 70,
   "metadata": {},
   "outputs": [
    {
     "name": "stdout",
     "output_type": "stream",
     "text": [
      "['i', 'was', 'angry', 'with', 'my', 'friend', 'i', 'told', 'my', 'wrath', 'my', 'wrath', 'did', 'end', 'i', 'was', 'angry', 'with', 'my', 'foe', 'i', 'told', 'it', 'not', 'my', 'wrath', 'did', 'grow', 'and', 'i', 'waterd', 'it', 'in', 'fears', 'night', 'morning', 'with', 'my', 'tears', 'and', 'i', 'sunned', 'it', 'with', 'smiles', 'and', 'with', 'soft', 'deceitful', 'wiles', 'and', 'it', 'grew', 'both', 'day', 'and', 'night', 'till', 'it', 'bore', 'an', 'apple', 'bright', 'and', 'my', 'foe', 'beheld', 'it', 'shine', 'and', 'he', 'knew', 'that', 'it', 'was', 'mine', 'and', 'into', 'my', 'garden', 'stole', 'when', 'the', 'night', 'had', 'veild', 'the', 'pole', 'in', 'the', 'morning', 'glad', 'i', 'see', 'my', 'foe', 'outstretched', 'beneath', 'the', 'tree']\n",
      "['i', ' ', 'w', 's', ' ', 'n', 'g', 'r', 'y', ' ', 'w', 'i', 't', 'h', ' ', 'm', 'y', ' ', 'f', 'r', 'i', 'e', 'n', 'd', ';', ' ', '\\n', 'i', ' ', 't', 'o', 'l', 'd', ' ', 'm', 'y', ' ', 'w', 'r', 't', 'h', ',', ' ', 'm', 'y', ' ', 'w', 'r', 't', 'h', ' ', 'd', 'i', 'd', ' ', 'e', 'n', 'd', '.', '\\n', 'i', ' ', 'w', 's', ' ', 'n', 'g', 'r', 'y', ' ', 'w', 'i', 't', 'h', ' ', 'm', 'y', ' ', 'f', 'o', 'e', ':', ' ', '\\n', 'i', ' ', 't', 'o', 'l', 'd', ' ', 'i', 't', ' ', 'n', 'o', 't', ',', ' ', 'm', 'y', ' ', 'w', 'r', 't', 'h', ' ', 'd', 'i', 'd', ' ', 'g', 'r', 'o', 'w', '.', ' ', '\\n', '\\n', 'n', 'd', ' ', 'i', ' ', 'w', 't', 'e', 'r', 'd', ' ', 'i', 't', ' ', 'i', 'n', ' ', 'f', 'e', 'r', 's', ',', '\\n', 'n', 'i', 'g', 'h', 't', ' ', '&', ' ', 'm', 'o', 'r', 'n', 'i', 'n', 'g', ' ', 'w', 'i', 't', 'h', ' ', 'm', 'y', ' ', 't', 'e', 'r', 's', ':', ' ', '\\n', 'n', 'd', ' ', 'i', ' ', 's', 'u', 'n', 'n', 'e', 'd', ' ', 'i', 't', ' ', 'w', 'i', 't', 'h', ' ', 's', 'm', 'i', 'l', 'e', 's', ',', '\\n', 'n', 'd', ' ', 'w', 'i', 't', 'h', ' ', 's', 'o', 'f', 't', ' ', 'd', 'e', 'c', 'e', 'i', 't', 'f', 'u', 'l', ' ', 'w', 'i', 'l', 'e', 's', '.', ' ', '\\n', '\\n', 'n', 'd', ' ', 'i', 't', ' ', 'g', 'r', 'e', 'w', ' ', 'b', 'o', 't', 'h', ' ', 'd', 'y', ' ', 'n', 'd', ' ', 'n', 'i', 'g', 'h', 't', '.', ' ', '\\n', 't', 'i', 'l', 'l', ' ', 'i', 't', ' ', 'b', 'o', 'r', 'e', ' ', 'n', ' ', 'p', 'p', 'l', 'e', ' ', 'b', 'r', 'i', 'g', 'h', 't', '.', ' ', '\\n', 'n', 'd', ' ', 'm', 'y', ' ', 'f', 'o', 'e', ' ', 'b', 'e', 'h', 'e', 'l', 'd', ' ', 'i', 't', ' ', 's', 'h', 'i', 'n', 'e', ',', '\\n', 'n', 'd', ' ', 'h', 'e', ' ', 'k', 'n', 'e', 'w', ' ', 't', 'h', 't', ' ', 'i', 't', ' ', 'w', 's', ' ', 'm', 'i', 'n', 'e', '.', ' ', '\\n', '\\n', 'n', 'd', ' ', 'i', 'n', 't', 'o', ' ', 'm', 'y', ' ', 'g', 'r', 'd', 'e', 'n', ' ', 's', 't', 'o', 'l', 'e', ',', ' ', '\\n', 'w', 'h', 'e', 'n', ' ', 't', 'h', 'e', ' ', 'n', 'i', 'g', 'h', 't', ' ', 'h', 'd', ' ', 'v', 'e', 'i', 'l', 'd', ' ', 't', 'h', 'e', ' ', 'p', 'o', 'l', 'e', ';', ' ', '\\n', 'i', 'n', ' ', 't', 'h', 'e', ' ', 'm', 'o', 'r', 'n', 'i', 'n', 'g', ' ', 'g', 'l', 'd', ' ', 'i', ' ', 's', 'e', 'e', ';', ' ', '\\n', 'm', 'y', ' ', 'f', 'o', 'e', ' ', 'o', 'u', 't', 's', 't', 'r', 'e', 't', 'c', 'h', 'e', 'd', ' ', 'b', 'e', 'n', 'e', 't', 'h', ' ', 't', 'h', 'e', ' ', 't', 'r', 'e', 'e', '.']\n"
     ]
    }
   ],
   "source": [
    "blacklist = ['and', 'as', 'an', 'a', 'the', 'in', 'it']\n",
    "\n",
    "poem = \"\"\"I was angry with my friend; \n",
    "I told my wrath, my wrath did end.\n",
    "I was angry with my foe: \n",
    "I told it not, my wrath did grow. \n",
    "\n",
    "And I waterd it in fears,\n",
    "Night & morning with my tears: \n",
    "And I sunned it with smiles,\n",
    "And with soft deceitful wiles. \n",
    "\n",
    "And it grew both day and night. \n",
    "Till it bore an apple bright. \n",
    "And my foe beheld it shine,\n",
    "And he knew that it was mine. \n",
    "\n",
    "And into my garden stole, \n",
    "When the night had veild the pole; \n",
    "In the morning glad I see; \n",
    "My foe outstretched beneath the tree.\"\"\"\n",
    "\n",
    "# Your code here:\n",
    "poem_lowercase=poem.lower()\n",
    "\n",
    "print(re.findall('[a-z]+',poem_lowercase))\n",
    "\n",
    "poem_blacklist=[]\n",
    "\n",
    "for i in poem_lowercase:\n",
    "    if i not in blacklist:\n",
    "        poem_blacklist.append(i)"
   ]
  },
  {
   "cell_type": "markdown",
   "metadata": {},
   "source": [
    "# Challenge 3 - Regular Expressions\n",
    "\n",
    "Sometimes, we would like to perform more complex manipulations of our string. This is where regular expressions come in handy. In the cell below, return all characters that are upper case from the string specified below."
   ]
  },
  {
   "cell_type": "code",
   "execution_count": 74,
   "metadata": {},
   "outputs": [
    {
     "name": "stdout",
     "output_type": "stream",
     "text": [
      "['T', 'P']\n"
     ]
    }
   ],
   "source": [
    "poem = \"\"\"The apparition of these faces in the crowd;\n",
    "Petals on a wet, black bough.\"\"\"\n",
    "\n",
    "# Your code here:\n",
    "\n",
    "print(re.findall('[A-Z]',poem))"
   ]
  },
  {
   "cell_type": "markdown",
   "metadata": {},
   "source": [
    "In the cell below, filter the list provided and return all elements of the list containing a number. To filter the list, use the `re.search` function. Check if the function does not return `None`. You can read more about the `re.search` function [here](https://docs.python.org/3/library/re.html)."
   ]
  },
  {
   "cell_type": "code",
   "execution_count": 75,
   "metadata": {},
   "outputs": [
    {
     "name": "stdout",
     "output_type": "stream",
     "text": [
      "['123abc', 'abc123', 'JohnSmith1', 'ABBY4']\n"
     ]
    }
   ],
   "source": [
    "data = ['123abc', 'abc123', 'JohnSmith1', 'ABBY4', 'JANE']\n",
    "\n",
    "# Your code here:\n",
    "poem_words = [words.lower().strip('.,:;&') for words in poem.split() if words.lower().strip('.,:;&') != ''];\n",
    "\n",
    "words_not_in_blacklist = [word for word in set(poem_words) if word not in blacklist];\n",
    "print([word for word in data if re.search(\"\\d\", word)]);\n",
    "data = ['123abc', 'abc123', 'JohnSmith1', 'ABBY4', 'JANE']"
   ]
  },
  {
   "cell_type": "markdown",
   "metadata": {},
   "source": [
    "# Bonus Challenge - Regular Expressions II\n",
    "\n",
    "In the cell below, filter the list provided to keep only strings containing at least one digit and at least one lower case letter. As in the previous question, use the `re.search` function and check that the result is not `None`.\n",
    "\n",
    "To read more about regular expressions, check out [this link](https://developers.google.com/edu/python/regular-expressions)."
   ]
  },
  {
   "cell_type": "code",
   "execution_count": null,
   "metadata": {},
   "outputs": [],
   "source": [
    "data = ['123abc', 'abc123', 'JohnSmith1', 'ABBY4', 'JANE']\n",
    "# Your code here:\n",
    "\n",
    "# Option 1\n",
    "print([word for word in data if re.search(\"\\d\", word) and re.search(\"[a-z]\", word)]);\n",
    "\n",
    "# Option 2\n",
    "print([x for x in data if re.search(\"(?=.\\d)(?=.[a-z]).*\", x)]);"
   ]
  }
 ],
 "metadata": {
  "kernelspec": {
   "display_name": "Python 3",
   "language": "python",
   "name": "python3"
  },
  "language_info": {
   "codemirror_mode": {
    "name": "ipython",
    "version": 3
   },
   "file_extension": ".py",
   "mimetype": "text/x-python",
   "name": "python",
   "nbconvert_exporter": "python",
   "pygments_lexer": "ipython3",
   "version": "3.8.3"
  }
 },
 "nbformat": 4,
 "nbformat_minor": 2
}
